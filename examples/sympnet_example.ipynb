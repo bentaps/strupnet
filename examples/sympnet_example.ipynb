{
 "cells": [
  {
   "cell_type": "markdown",
   "metadata": {},
   "source": [
    "# Initialise the SympNet\n",
    "\n",
    "We will use symplectic neural networks with quadratic ridge polynomials (which is the best method for quadratic Hamiltonians) by setting the optional arguments `max_degree=2` and `method='P'`."
   ]
  },
  {
   "cell_type": "code",
   "execution_count": 8,
   "metadata": {},
   "outputs": [],
   "source": [
    "from strupnet import SympNet\n",
    "import torch \n",
    "\n",
    "sympnet = SympNet(\n",
    "    dim=1, # dimension of p or q\n",
    "    layers=2,\n",
    "    max_degree=2,\n",
    "    method='P',\n",
    ")"
   ]
  },
  {
   "cell_type": "markdown",
   "metadata": {},
   "source": [
    "# Generate training and testing data \n",
    "\n",
    "We will generate data of the form $ \\{x(ih)\\}_{i=0}^{n+1}=\\{p(ih), q(ih)\\}_{i=0}^{n+1}$, where $x(t)$ is the solution to the Hamiltonian ODE $\\dot{x} = J\\nabla H $, with the simple Harmonic oscillator Hamiltonian $ H = \\frac{1}{2} (p^2 + q^2) $. The data is arranged in the form $ x_0 = \\{x(ih)\\}_{i=0}^{n} $, $ x_1 = \\{x((i+1)h)\\}_{i=0}^{n} $ and same for $ t $. \n"
   ]
  },
  {
   "cell_type": "code",
   "execution_count": 9,
   "metadata": {},
   "outputs": [],
   "source": [
    "def simple_harmonic_oscillator_solution(t_start, t_end, timestep):\n",
    "    time_grid = torch.linspace(t_start, t_end, int((t_end-t_start)/timestep)+1)\n",
    "    p_sol = torch.cos(time_grid)\n",
    "    q_sol = torch.sin(time_grid)\n",
    "    pq_sol = torch.stack([p_sol, q_sol], dim=-1)\n",
    "    return pq_sol, time_grid.unsqueeze(dim=1)\n",
    "\n",
    "timestep=0.05\n",
    "x, t = simple_harmonic_oscillator_solution(t_start=0, t_end=1, timestep=timestep)\n",
    "x_test, t_test = simple_harmonic_oscillator_solution(t_start=1, t_end=4, timestep=timestep)\n",
    "x0, x1, t0, t1 = x[:-1, :], x[1:, :], t[:-1, :], t[1:, :]\n",
    "x0_test, x1_test, t0_test, t1_test = x_test[:-1, :], x_test[1:, :], t_test[:-1, :], t_test[1:, :]"
   ]
  },
  {
   "cell_type": "markdown",
   "metadata": {},
   "source": [
    "# Train the sympnet like any PyTorch model \n",
    "All the models in `strupnet` inherit from `torch.nn.Module` and can be trained as such. The loss function can be defined as follows. Letting $\\Phi_h^{\\theta}(x)$ denote the SympNet, where $\\theta$ denotes its set of trainable parameters, then we want to find $\\theta$ that minimises \n",
    "\n",
    "$\\qquad loss=\\sum_{i=0}^{n}\\|\\Phi_h^{\\theta}(x(ih))-x\\left((i+1)h\\right)\\|^2$\n"
   ]
  },
  {
   "cell_type": "code",
   "execution_count": 10,
   "metadata": {},
   "outputs": [
    {
     "name": "stdout",
     "output_type": "stream",
     "text": [
      "Final loss value:  3.02371001268796e-33\n"
     ]
    }
   ],
   "source": [
    "optimizer = torch.optim.Adam(sympnet.parameters(), lr=0.01)\n",
    "mse = torch.nn.MSELoss()\n",
    "for epoch in range(1000):\n",
    "    optimizer.zero_grad()    \n",
    "    x1_pred = sympnet(x=x0, dt=t1 - t0)\n",
    "    loss = mse(x1, x1_pred)\n",
    "    loss.backward()\n",
    "    optimizer.step()\n",
    "\n",
    "print(\"Final loss value: \", loss.item())"
   ]
  },
  {
   "cell_type": "markdown",
   "metadata": {},
   "source": [
    "# Evaluate the trained model on the test data set"
   ]
  },
  {
   "cell_type": "code",
   "execution_count": 11,
   "metadata": {},
   "outputs": [
    {
     "name": "stdout",
     "output_type": "stream",
     "text": [
      "Test set error 6.808010630459377e-16\n"
     ]
    }
   ],
   "source": [
    "x1_test_pred = sympnet(x=x0_test, dt=t1_test - t0_test)\n",
    "\n",
    "print(\"Test set error\", torch.norm(x1_test_pred - x1_test).item())"
   ]
  }
 ],
 "metadata": {
  "kernelspec": {
   "display_name": "venv",
   "language": "python",
   "name": "python3"
  },
  "language_info": {
   "codemirror_mode": {
    "name": "ipython",
    "version": 3
   },
   "file_extension": ".py",
   "mimetype": "text/x-python",
   "name": "python",
   "nbconvert_exporter": "python",
   "pygments_lexer": "ipython3",
   "version": "3.9.6"
  }
 },
 "nbformat": 4,
 "nbformat_minor": 2
}
