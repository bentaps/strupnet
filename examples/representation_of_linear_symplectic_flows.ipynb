{
 "cells": [
  {
   "cell_type": "markdown",
   "metadata": {},
   "source": [
    "# Representation of linear symplectic flows using P-SympNets\n",
    "\n",
    "In this notebook we will explore the representation property of P-SympNets. We will generate a data set from a linear symplectic transformation and train a number of P-SympNets to validate the theorem. "
   ]
  },
  {
   "cell_type": "code",
   "execution_count": 1,
   "metadata": {},
   "outputs": [],
   "source": [
    "import torch\n",
    "\n",
    "torch.set_default_dtype(torch.float64)\n",
    "torch.manual_seed(0)\n",
    "device = None # torch.device('cuda' if torch.cuda.is_available() else 'cpu') if you have a GPU and doing large scale experiments. cpu (or None) is fine for small systems. "
   ]
  },
  {
   "cell_type": "markdown",
   "metadata": {},
   "source": [
    "## Generate a linear symplectic data set using the matrix exponential $exp(hJA)$\n",
    "\n",
    "Where $J$ is the canonical sympelctic matrix, $A$ is a symmetric positive definite (i.e., non-degenerate) square matrix and $h$ is a small paramter (e.g., a time-step). \n",
    "\n",
    "The data set is in the form `x0`, `x1`, where `x0` are random initial conditions from the unit hypercube and `x1` are $exp(hJA)$ applied to `x0`. "
   ]
  },
  {
   "cell_type": "code",
   "execution_count": 2,
   "metadata": {},
   "outputs": [
    {
     "name": "stdout",
     "output_type": "stream",
     "text": [
      "Computing data for Hamiltonian system dx/dt = J*A*x where \n",
      "\n",
      "A = [[1.49 0.29 0.17 0.43 0.23 0.39 0.19 0.29 0.2  0.18]\n",
      " [0.29 1.09 0.26 0.31 0.13 0.17 0.11 0.25 0.27 0.41]\n",
      " [0.17 0.26 1.05 0.18 0.24 0.19 0.19 0.27 0.28 0.29]\n",
      " [0.43 0.31 0.18 1.08 0.21 0.48 0.39 0.3  0.24 0.1 ]\n",
      " [0.23 0.13 0.24 0.21 1.27 0.31 0.37 0.01 0.35 0.4 ]\n",
      " [0.39 0.17 0.19 0.48 0.31 1.18 0.18 0.25 0.13 0.19]\n",
      " [0.19 0.11 0.19 0.39 0.37 0.18 1.2  0.26 0.18 0.25]\n",
      " [0.29 0.25 0.27 0.3  0.01 0.25 0.26 1.08 0.22 0.08]\n",
      " [0.2  0.27 0.28 0.24 0.35 0.13 0.18 0.22 1.27 0.22]\n",
      " [0.18 0.41 0.29 0.1  0.4  0.19 0.25 0.08 0.22 1.31]]\n",
      "\n",
      "Rank(A) = 10\n",
      "min(spec(A)) = 0.4744150564539512\n"
     ]
    }
   ],
   "source": [
    "from linear_utils import generate_linear_hamiltonian_data, laplacian_matrix, separable_random_symmetric_matrix, dense_random_symmetric_matrix, canonical_symplectic_matrix, spectrum_adjoint_action\n",
    "import numpy as np\n",
    "\n",
    "DIM = 5\n",
    "TIMESTEP = 0.01\n",
    "NDATA = 50\n",
    "MATRIX_TYPE = \"random\" # \"random\" for a symmetric random matrix or \"laplacian\" for a wave-like system\n",
    "\n",
    "data_gen_kwargs = dict(\n",
    "    dim=DIM, \n",
    "    ndata=NDATA, \n",
    "    timestep=TIMESTEP,\n",
    "    device=device,\n",
    "    method=\"matrix_exp\",\n",
    ")\n",
    "\n",
    "if MATRIX_TYPE == \"laplacian\":\n",
    "    A = laplacian_matrix(DIM) \n",
    "elif MATRIX_TYPE == \"random\":\n",
    "    A = dense_random_symmetric_matrix(DIM)\n",
    "elif MATRIX_TYPE == \"separable\":\n",
    "    A = separable_random_symmetric_matrix(DIM)\n",
    "\n",
    "\n",
    "x0_train, x1_train = generate_linear_hamiltonian_data(symmetric_matrix=A, **data_gen_kwargs)\n",
    "x0_test, x1_test = generate_linear_hamiltonian_data(symmetric_matrix=A, **data_gen_kwargs)\n",
    "\n",
    "print(f\"Computing data for Hamiltonian system dx/dt = J*A*x where \\n\\nA = {np.round(A.detach().numpy(),2)}\\n\")\n",
    "print(f\"Rank(A) = {np.linalg.matrix_rank(A.detach().numpy())}\")\n",
    "print(f\"min(spec(A)) = {torch.min(torch.linalg.eigvalsh(A))}\")\n"
   ]
  },
  {
   "cell_type": "markdown",
   "metadata": {},
   "source": [
    "## Initialize quadratic P-SympNets and train on the dataset\n",
    "\n",
    "Here we've implemented a very basic training function that uses the Adams optimiser to minimise the MSE loss. We use `joblib` to train 10 SympNets in parallel. We evaluate the trained SympNets on the test set and plot these errors against the number of Layers. \n",
    "\n",
    "The representation theorem for P-SympNets says that they should be able to learn the exact map $exp(hJA)$ when the number of layers equals the dimension of $A$, which is `layers = 2*DIM`. "
   ]
  },
  {
   "cell_type": "code",
   "execution_count": 3,
   "metadata": {},
   "outputs": [
    {
     "name": "stderr",
     "output_type": "stream",
     "text": [
      " 14%|█▎        | 274/2000 [00:00<00:03, 483.33it/s, train_loss=8.58e-16, best_train_loss=8.58e-16, norm_grads=4.9e-10] 8it/s, train_loss=1.08e-8, best_train_loss=1.08e-8, norm_grads=2.17e-6]\n",
      " 20%|██        | 405/2000 [00:00<00:02, 734.73it/s, train_loss=7.13e-6, best_train_loss=7.13e-6, norm_grads=6.49e-15]]"
     ]
    },
    {
     "name": "stdout",
     "output_type": "stream",
     "text": [
      "Final loss value:  8.580578848476745e-16\n",
      "Final loss value:  7.133052434202898e-06\n",
      "Final loss value:  9.121849907313885e-16\n",
      "Final loss value:  4.335191445689805e-06\n"
     ]
    },
    {
     "name": "stderr",
     "output_type": "stream",
     "text": [
      " 26%|██▌       | 518/2000 [00:00<00:01, 761.76it/s, train_loss=7.13e-6, best_train_loss=7.13e-6, norm_grads=9.81e-16]]\n",
      " 13%|█▎        | 269/2000 [00:00<00:03, 445.47it/s, train_loss=9.12e-16, best_train_loss=9.12e-16, norm_grads=6.47e-10]\n",
      " 25%|██▌       | 509/2000 [00:00<00:02, 695.55it/s, train_loss=4.34e-6, best_train_loss=4.34e-6, norm_grads=9.35e-16]]\n",
      " 30%|██▉       | 592/2000 [00:00<00:01, 725.74it/s, train_loss=2.87e-6, best_train_loss=2.87e-6, norm_grads=9.05e-16]]\n",
      " 13%|█▎        | 258/2000 [00:00<00:04, 367.01it/s, train_loss=9.72e-16, best_train_loss=9.72e-16, norm_grads=8.83e-10]\n",
      " 26%|██▌       | 522/2000 [00:00<00:02, 548.99it/s, train_loss=1.6e-6, best_train_loss=1.6e-6, norm_grads=9.78e-16]-9]]\n",
      " 14%|█▎        | 274/2000 [00:00<00:04, 346.00it/s, train_loss=9.76e-16, best_train_loss=9.76e-16, norm_grads=7.21e-10]\n",
      " 27%|██▋       | 534/2000 [00:01<00:02, 532.78it/s, train_loss=6.21e-7, best_train_loss=6.21e-7, norm_grads=9.61e-16]0]\n",
      " 13%|█▎        | 265/2000 [00:00<00:04, 355.52it/s, train_loss=9.48e-16, best_train_loss=9.48e-16, norm_grads=7.12e-10]\n",
      " 10%|█         | 201/2000 [00:00<00:03, 500.14it/s, train_loss=1.08e-13, best_train_loss=1.08e-13, norm_grads=1.03e-8]"
     ]
    },
    {
     "name": "stdout",
     "output_type": "stream",
     "text": [
      "Final loss value:  2.86952412322641e-06\n",
      "Final loss value:  9.71615951453292e-16\n",
      "Final loss value:  1.60205017512122e-06\n",
      "Final loss value:  9.762202480572561e-16\n",
      "Final loss value:  6.209983496263017e-07\n",
      "Final loss value:  9.482120143554706e-16\n",
      "Final loss value:  9.584208876846825e-16\n"
     ]
    },
    {
     "name": "stderr",
     "output_type": "stream",
     "text": [
      " 13%|█▎        | 255/2000 [00:00<00:03, 508.09it/s, train_loss=9.58e-16, best_train_loss=9.58e-16, norm_grads=7.9e-10] \n"
     ]
    }
   ],
   "source": [
    "from linear_utils import train\n",
    "import joblib\n",
    "from strupnet.snn import SympNet\n",
    "\n",
    "NEPOCHS = 2000\n",
    "LEARNING_RATE = 0.05\n",
    "\n",
    "def train_sympnet(layers):\n",
    "    sympnet = SympNet(\n",
    "        dim=DIM,\n",
    "        min_degree=2,\n",
    "        max_degree=2,\n",
    "        layers=layers,\n",
    "        method='P',\n",
    "    )\n",
    "\n",
    "    training_curve, best_train_loss = train(\n",
    "        net=sympnet,\n",
    "        x0=x0_train,\n",
    "        x1=x1_train,\n",
    "        lr=LEARNING_RATE,\n",
    "        nepochs=NEPOCHS,\n",
    "        timestep=TIMESTEP,\n",
    "        tol=1e-15,\n",
    "        use_best_train_loss=True, \n",
    "    )\n",
    "    test_set_error = torch.mean((sympnet(x0_test, TIMESTEP) - x1_test)**2).item()\n",
    "    return {\"layers\": layers, \"best_loss\": test_set_error}\n",
    "\n",
    "# train 10 models in parallel using joblib \n",
    "n_jobs = 10\n",
    "training_curves = joblib.Parallel(n_jobs=n_jobs)(\n",
    "    joblib.delayed(train_sympnet)(layer) for layer in range(2*DIM-n_jobs//2, 2*DIM+n_jobs//2+1)\n",
    ")"
   ]
  },
  {
   "cell_type": "markdown",
   "metadata": {},
   "source": [
    "# Plot results\n",
    "\n",
    "Here we see that when the number of layers is equal to or greater than the dimension of the matrix, the P-SympNet learns the exact flow. "
   ]
  },
  {
   "cell_type": "code",
   "execution_count": 5,
   "metadata": {},
   "outputs": [
    {
     "data": {
      "image/png": "[encoded data removed]",
      "text/plain": [
       "<Figure size 640x480 with 1 Axes>"
      ]
     },
     "metadata": {},
     "output_type": "display_data"
    }
   ],
   "source": [
    "import matplotlib.pyplot as plt\n",
    "\n",
    "for d in training_curves:\n",
    "    plt.semilogy(d[\"layers\"], d[\"best_loss\"], 'yo')\n",
    "# plot a vertical line at the optimal number of layers\n",
    "plt.axvline(x=2*DIM, color='k', linestyle='--', alpha=0.5, label=\"$2n$ layers\")\n",
    "plt.xlabel(\"Number of layers\")\n",
    "plt.ylabel(\"Test set loss\")\n",
    "plt.title(f\"Quadratic P-SympNets for dim={2*DIM} linear system\")\n",
    "plt.legend()\n",
    "plt.show()\n",
    "    "
   ]
  },
  {
   "cell_type": "code",
   "execution_count": null,
   "metadata": {},
   "outputs": [],
   "source": []
  }
 ],
 "metadata": {
  "kernelspec": {
   "display_name": "Python 3",
   "language": "python",
   "name": "python3"
  },
  "language_info": {
   "codemirror_mode": {
    "name": "ipython",
    "version": 3
   },
   "file_extension": ".py",
   "mimetype": "text/x-python",
   "name": "python",
   "nbconvert_exporter": "python",
   "pygments_lexer": "ipython3",
   "version": "3.9.6"
  }
 },
 "nbformat": 4,
 "nbformat_minor": 2
}
